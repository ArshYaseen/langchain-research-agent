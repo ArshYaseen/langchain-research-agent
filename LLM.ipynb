{
 "cells": [
  {
   "cell_type": "code",
   "execution_count": 2,
   "id": "d1718714-44e5-4435-bcd1-c97b29320342",
   "metadata": {},
   "outputs": [
    {
     "name": "stdout",
     "output_type": "stream",
     "text": [
      "Requirement already satisfied: filelock in d:\\anaconda\\lib\\site-packages (3.13.1)\n",
      "Requirement already satisfied: huggingface-hub in d:\\anaconda\\lib\\site-packages (0.24.5)\n",
      "Requirement already satisfied: pandas in d:\\anaconda\\lib\\site-packages (2.1.4)\n",
      "Requirement already satisfied: tqdm in d:\\anaconda\\lib\\site-packages (4.66.5)\n",
      "Requirement already satisfied: xxhash in d:\\anaconda\\lib\\site-packages (3.5.0)\n",
      "Requirement already satisfied: datasets in c:\\users\\bilal\\appdata\\roaming\\python\\python311\\site-packages (3.0.0)\n",
      "Requirement already satisfied: fsspec[http] in d:\\anaconda\\lib\\site-packages (2023.10.0)\n",
      "Requirement already satisfied: requests in d:\\anaconda\\lib\\site-packages (from fsspec[http]) (2.32.3)\n",
      "Requirement already satisfied: aiohttp!=4.0.0a0,!=4.0.0a1 in d:\\anaconda\\lib\\site-packages (from fsspec[http]) (3.9.3)\n",
      "Requirement already satisfied: packaging>=20.9 in d:\\anaconda\\lib\\site-packages (from huggingface-hub) (24.2)\n",
      "Requirement already satisfied: pyyaml>=5.1 in d:\\anaconda\\lib\\site-packages (from huggingface-hub) (6.0.1)\n",
      "Requirement already satisfied: typing-extensions>=3.7.4.3 in d:\\anaconda\\lib\\site-packages (from huggingface-hub) (4.13.2)\n",
      "Requirement already satisfied: numpy<2,>=1.23.2 in d:\\anaconda\\lib\\site-packages (from pandas) (1.26.4)\n",
      "Requirement already satisfied: python-dateutil>=2.8.2 in d:\\anaconda\\lib\\site-packages (from pandas) (2.8.2)\n",
      "Requirement already satisfied: pytz>=2020.1 in d:\\anaconda\\lib\\site-packages (from pandas) (2023.3.post1)\n",
      "Requirement already satisfied: tzdata>=2022.1 in d:\\anaconda\\lib\\site-packages (from pandas) (2023.3)\n",
      "Requirement already satisfied: colorama in d:\\anaconda\\lib\\site-packages (from tqdm) (0.4.6)\n",
      "Requirement already satisfied: pyarrow>=15.0.0 in c:\\users\\bilal\\appdata\\roaming\\python\\python311\\site-packages (from datasets) (17.0.0)\n",
      "Requirement already satisfied: dill<0.3.9,>=0.3.0 in c:\\users\\bilal\\appdata\\roaming\\python\\python311\\site-packages (from datasets) (0.3.8)\n",
      "Requirement already satisfied: multiprocess in c:\\users\\bilal\\appdata\\roaming\\python\\python311\\site-packages (from datasets) (0.70.16)\n",
      "Requirement already satisfied: aiosignal>=1.1.2 in d:\\anaconda\\lib\\site-packages (from aiohttp!=4.0.0a0,!=4.0.0a1->fsspec[http]) (1.2.0)\n",
      "Requirement already satisfied: attrs>=17.3.0 in d:\\anaconda\\lib\\site-packages (from aiohttp!=4.0.0a0,!=4.0.0a1->fsspec[http]) (24.3.0)\n",
      "Requirement already satisfied: frozenlist>=1.1.1 in d:\\anaconda\\lib\\site-packages (from aiohttp!=4.0.0a0,!=4.0.0a1->fsspec[http]) (1.4.0)\n",
      "Requirement already satisfied: multidict<7.0,>=4.5 in d:\\anaconda\\lib\\site-packages (from aiohttp!=4.0.0a0,!=4.0.0a1->fsspec[http]) (6.0.4)\n",
      "Requirement already satisfied: yarl<2.0,>=1.0 in d:\\anaconda\\lib\\site-packages (from aiohttp!=4.0.0a0,!=4.0.0a1->fsspec[http]) (1.9.3)\n",
      "Requirement already satisfied: six>=1.5 in d:\\anaconda\\lib\\site-packages (from python-dateutil>=2.8.2->pandas) (1.16.0)\n",
      "Requirement already satisfied: charset-normalizer<4,>=2 in d:\\anaconda\\lib\\site-packages (from requests->fsspec[http]) (2.0.4)\n",
      "Requirement already satisfied: idna<4,>=2.5 in d:\\anaconda\\lib\\site-packages (from requests->fsspec[http]) (3.4)\n",
      "Requirement already satisfied: urllib3<3,>=1.21.1 in d:\\anaconda\\lib\\site-packages (from requests->fsspec[http]) (2.0.7)\n",
      "Requirement already satisfied: certifi>=2017.4.17 in d:\\anaconda\\lib\\site-packages (from requests->fsspec[http]) (2024.7.4)\n"
     ]
    }
   ],
   "source": [
    "!pip install filelock fsspec[http] huggingface-hub pandas tqdm xxhash datasets"
   ]
  },
  {
   "cell_type": "code",
   "execution_count": 1,
   "id": "3dc3eb1a-d62d-483d-adb8-497484cde248",
   "metadata": {},
   "outputs": [],
   "source": [
    "# Use !pip install if running directly in Jupyter\n",
    "!pip install langchain langchain-groq langchain_community tavily-python python-dotenv langchainhub -q"
   ]
  },
  {
   "cell_type": "code",
   "execution_count": 2,
   "id": "33a37ac7-b622-4917-a132-9b713b0a5d3e",
   "metadata": {},
   "outputs": [
    {
     "name": "stdout",
     "output_type": "stream",
     "text": [
      "API Keys loaded (presence checked).\n"
     ]
    }
   ],
   "source": [
    "import os\n",
    "from dotenv import load_dotenv\n",
    "\n",
    "load_dotenv()\n",
    "\n",
    "# Optional: Check if keys are loaded (recommended)\n",
    "groq_api_key = os.getenv(\"GROQ_API_KEY\")\n",
    "tavily_api_key = os.getenv(\"TAVILY_API_KEY\")\n",
    "\n",
    "if not groq_api_key:\n",
    "    print(\"GROQ_API_KEY not found. Make sure it's set in your .env file.\")\n",
    "if not tavily_api_key:\n",
    "    print(\"TAVILY_API_KEY not found. Make sure it's set in your .env file.\")\n",
    "\n",
    "# Note: Don't print the actual keys here or in logs for security!\n",
    "print(\"API Keys loaded (presence checked).\")"
   ]
  },
  {
   "cell_type": "code",
   "execution_count": 17,
   "id": "b3ba6814-d51e-4f35-8120-bfc6445dbe4f",
   "metadata": {},
   "outputs": [],
   "source": [
    "from langchain_groq import ChatGroq\n",
    "from langchain_community.tools.tavily_search import TavilySearchResults\n",
    "\n",
    "# Initialize the LLM (using Groq's Llama3 8b instruct model - fast and capable)\n",
    "# You can also try \"mixtral-8x7b-32768\"\n",
    "llm = ChatGroq(model_name=\"llama3-70b-8192\", temperature=0) # Temperature 0 for more deterministic output\n",
    "\n",
    "# Initialize the Tavily Search Tool\n",
    "# max_results=3 asks Tavily to return the top 3 search results\n",
    "search_tool = TavilySearchResults(max_results=3)\n",
    "\n",
    "# Put the tool(s) into a list\n",
    "tools = [search_tool]\n",
    "\n",
    "# Let's test the tool independently (optional)\n",
    "# print(search_tool.invoke(\"What are the latest advancements in battery technology?\"))"
   ]
  },
  {
   "cell_type": "code",
   "execution_count": 18,
   "id": "5afa6920-b6d9-41b9-a151-6a49eb00bb1f",
   "metadata": {},
   "outputs": [
    {
     "name": "stderr",
     "output_type": "stream",
     "text": [
      "D:\\ANACONDA\\Lib\\site-packages\\langsmith\\client.py:280: LangSmithMissingAPIKeyWarning: API key must be provided when using hosted LangSmith API\n",
      "  warnings.warn(\n"
     ]
    },
    {
     "name": "stdout",
     "output_type": "stream",
     "text": [
      "Agent Executor created successfully.\n"
     ]
    }
   ],
   "source": [
    "from langchain import hub\n",
    "from langchain.agents import create_react_agent, AgentExecutor\n",
    "\n",
    "# 1. Get the ReAct prompt template\n",
    "# This prompt contains instructions for the LLM on how to use tools and formulate thoughts/actions\n",
    "prompt = hub.pull(\"hwchase17/react\") # A common, well-tested ReAct prompt\n",
    "\n",
    "# 2. Create the Agent\n",
    "# This function binds the LLM, tools, and prompt together into a runnable agent logic\n",
    "agent = create_react_agent(llm, tools, prompt)\n",
    "\n",
    "# 3. Create the Agent Executor\n",
    "# This is the runtime for the agent. It takes the agent logic and executes the steps.\n",
    "# verbose=True lets us see the agent's thought process (chain-of-thought)\n",
    "agent_executor = AgentExecutor(agent=agent, tools=tools, verbose=True)\n",
    "\n",
    "print(\"Agent Executor created successfully.\")"
   ]
  },
  {
   "cell_type": "code",
   "execution_count": 20,
   "id": "90ddf930-d4bb-4020-b136-9f0c9e3528d5",
   "metadata": {
    "scrolled": true
   },
   "outputs": [
    {
     "name": "stdout",
     "output_type": "stream",
     "text": [
      "\n",
      "\n",
      "\u001b[1m> Entering new AgentExecutor chain...\u001b[0m\n",
      "\u001b[32;1m\u001b[1;3mThought: Pakistan is a country with a rich history and strategic location, but what makes it important for the world?\n",
      "\n",
      "Action: tavily_search_results_json\n",
      "Action Input: \"Pakistan's importance in the world\"\n",
      "\u001b[0m\u001b[36;1m\u001b[1;3m[{'title': 'The Strategic Importance of Pakistan: A Geostrategic Nexus', 'url': 'https://bestdiplomats.org/strategic-importance-of-pakistan/', 'content': 'In conclusion, Pakistan’s strategic importance is deeply rooted in its geographical location, economic potential, and security dynamics. Its role as a bridge between South Asia and Central Asia, its contribution to regional stability, and its partnerships with global powers like China and the United States highlight its significance on the world stage. [...] Best\\n\\n\\n\\t\\t\\t\\tDiplomats\\n\\nThe Strategic Importance of Pakistan: A Geostrategic Nexus\\n\\nPakistan’s strategic importance lies in its geographical position at the intersection of South Asia, Central Asia, and the Middle East. It shares borders with critical nations, including Afghanistan, China, India, and Iran, making it a pivotal player in regional stability, trade routes, and global power dynamics, particularly in matters of security and energy interests.\\n\\nTable of Contents [...] Read this article to explore the multifaceted strategic significance of Pakistan and delve into its geopolitical, economic, and security roles on the world stage.\\n\\nGeopolitical Significance\\n\\nPakistan holds immense geopolitical significance due to its strategic location at the crossroads of South Asia, Central Asia, and the Middle East. Its proximity to Afghanistan, Iran, China, and India makes it a major country in regional politics and current affairs.', 'score': 0.83225065}, {'title': '[PDF] The Geopolitical Importance of Pakistan', 'url': 'https://www.files.ethz.ch/isn/47558/Pakistan.pdf', 'content': '1 The Geopolitical Importance of Pakistan A Country Caught between the Threat of “Talibanisation” and the Return to Democracy by Dr. Heinrich Kreft The murder of Benazir Bhutto on 27 December focused world attention on a country which is generally overshadowed by its large neighbour and regional rival – India, a country with which Pakistan has repeatedly been involved in armed conflict. Pakistan\\'s geopolitical importance is underestimated, though it is an important factor in the stability of [...] South and Central Asia. Neither a resolution to the Kashmir conflict nor lasting peace in Afghanistan will be possible without Pakistan playing a major role. And international terrorism can only be effectively fought through close cooperation with Islamabad. At the same time, not only is Pakistan the only Muslim nuclear power – it is also facing the threat of state collapse due to Islamisation, hence the view pronounced by The Economist, and shared by others, that Pakistan is \"The world\\'s most', 'score': 0.7286136}, {'title': 'About Pakistan', 'url': 'https://pakconsulatela.org/about-pakistan/', 'content': 'Pakistan is important for many religions of the world. The Indus Valley gave rise to one of the first great civilizations. Mahayana Buddhism also developed', 'score': 0.70799106}]\u001b[0m\u001b[32;1m\u001b[1;3mThought: It seems that Pakistan's importance lies in its strategic location, economic potential, and security dynamics. Its geographical position at the intersection of South Asia, Central Asia, and the Middle East makes it a pivotal player in regional stability, trade routes, and global power dynamics.\n",
      "\n",
      "Action: tavily_search_results_json\n",
      "Action Input: \"Pakistan's economic importance\"\n",
      "\u001b[0m\u001b[36;1m\u001b[1;3m[{'title': 'Economy of Pakistan - Wikipedia', 'url': 'https://en.wikipedia.org/wiki/Economy_of_Pakistan', 'content': 'The economy of Pakistan is categorized as a developing economy. It ranks as the 24th-largest based on GDP using purchasing power parity (PPP)', 'score': 0.49816954}, {'title': \"Rescuing Pakistan's economy - Atlantic Council\", 'url': 'https://www.atlanticcouncil.org/in-depth-research-reports/issue-brief/rescuing-pakistans-economy/', 'content': 'Pakistan’s economic performance over the past fifty-five years has been dreary compared with that of its neighbors, in terms of both economic well-being and socio-economic attainment. In the early 1970s, the average Pakistani’s income was higher than that of the average Sri Lankan, and almost one and a half times that of the average Bangladeshi or Indian. By 2023, Pakistan’s per capita income had fallen, in relative terms, to only about half of the level in those other three countries. [...] Failure to invest adequately has held back Pakistan’s economic growth and its advancement in human achievement indicators. Investment, whether in development of human resources or in building capital resources such as infrastructure, factories, or machines, expands the ability of an economy to produce more goods and services, and to produce them more efficiently. Since the 1980s, Pakistan’s investment rate (or gross fixed capital formation in relation to its gross domestic product) has been [...] consistently lower than that of India and Sri Lanka; since the mid-1990s, it has also been much lower than that of Bangladesh. In the years before the global pandemic, Pakistan was investing less than half as much as its neighbors. In contrast to the other countries, Pakistan’s investment rate has trended downward over the past three decades. It is no surprise, then, that economic growth was weaker than elsewhere, and human development, as measured in terms of educational and health outcomes,', 'score': 0.48308808}, {'title': 'Index of Economic Freedom: Pakistan | The Heritage Foundation', 'url': 'https://www.heritage.org/index/pages/country-pages/pakistan', 'content': \"Pakistan's economic freedom score is 49.1, making its economy the 150th freest in the 2025 Index of Economic Freedom.\", 'score': 0.47884622}]\u001b[0m\u001b[32;1m\u001b[1;3mThought: It seems that Pakistan's economic importance lies in its potential for growth, despite its current challenges. Its economy is categorized as a developing economy, and it ranks as the 24th-largest based on GDP using purchasing power parity (PPP). However, its investment rate has been consistently lower than that of its neighbors, which has held back its economic growth and human achievement indicators.\n",
      "\n",
      "Action: tavily_search_results_json\n",
      "Action Input: \"Pakistan's role in regional stability\"\n",
      "\u001b[0m\u001b[36;1m\u001b[1;3m[{'title': \"SOUTH ASIA WEEK: Pakistan's Role in Regional Stability\", 'url': 'https://www.belfercenter.org/publication/south-asia-week-pakistans-role-regional-stability', 'content': \"Increased regional stability could have a stabilizing effect for ongoing domestic efforts; hence Pakistan had committed itself to supporting the reconciliation effort\\xa0in Afghanistan, and was working toward normalization of relations between India and Pakistan. Pakistan remained committed to nuclear\\xa0non-proliferation. It also accorded high priority to building regional cooperation. [...] Pakistan has transitioned from a crisis economy to a stable economy, the Ambassador said. Achieving stable, sustainable economic growth while mitigating social inequality was the priority of Prime Minister Nawaz Sharif's government, Lodhi noted. [...] “Increased regional economic cooperation and connectivity could further contribute to the wider region’s stability,” she said.\\n\\nPrime examples of advances in this arena included the China-Pakistan Economic Corridor (part of China’s Silk Road ‘One Belt, One Road’ vision), to connect this entire continent to the Middle East and serve as a land bridge to Europe.\\n\\nPakistan’s Global Responsibility\", 'score': 0.8793233}, {'title': \"Pakistan's Role in Regional Security: Balancing Relations ... - Medium\", 'url': 'https://medium.com/@riazleghari/pakistans-role-in-regional-security-balancing-relations-with-neighbors-and-global-powers-fd2e9f28801d', 'content': 'Pakistan can also play a vital role in shaping the future regional security architecture in South Asia, advocating for multilateral dialogues, and supporting the establishment of security pacts that involve all key regional stakeholders. The South Asian Association for Regional Cooperation (SAARC), despite its challenges, presents an existing platform that could be revitalized to promote regional stability through cooperation and dialogue. [...] shifting dynamics, forge stronger alliances, and promote stability through multilateral cooperation. Pakistan’s ongoing role in international forums, peace initiatives, and conflict resolution efforts will determine its long-term influence in South Asia and beyond. To ensure Pakistan remains a key player in regional security, continued diplomatic efforts and strategic partnerships will be crucial. At the same time, domestic political stability and effective governance are necessary to carry out [...] Pakistan’s regional security concerns are multifaceted and deeply interwoven with its relationships with neighboring countries and global powers. Nuclear deterrence, terrorism and extremism, and regional proxy conflicts continue to shape Pakistan’s security landscape. The country’s ability to manage these concerns, while balancing its strategic interests with its global alliances, will play a significant role in the future of regional stability and security.', 'score': 0.8773195}, {'title': '[PDF] Regional Stability and Lesson Learned in Regional Peace Building', 'url': 'https://issi.org.pk/wp-content/uploads/2018/10/Regional_Stability_and_Lesson_Learned_in_Regional_Peace_Building.pdf', 'content': 'Pakistan being an important stake holder in the region has its role in regional stability and peace building that cannot be ignored. The summary of ndings and', 'score': 0.86954874}]\u001b[0m\u001b[32;1m\u001b[1;3mThought: I now know the final answer.\n",
      "\n",
      "Final Answer: Pakistan is important for the world due to its strategic location, economic potential, and security dynamics. Its geographical position at the intersection of South Asia, Central Asia, and the Middle East makes it a pivotal player in regional stability, trade routes, and global power dynamics. Additionally, Pakistan's economy has the potential for growth, despite its current challenges, and it ranks as the 24th-largest based on GDP using purchasing power parity (PPP). Furthermore, Pakistan plays a vital role in regional stability, advocating for multilateral dialogues, and supporting the establishment of security pacts that involve all key regional stakeholders. Its ability to manage regional security concerns, while balancing its strategic interests with its global alliances, will play a significant role in the future of regional stability and security.\u001b[0m\n",
      "\n",
      "\u001b[1m> Finished chain.\u001b[0m\n",
      "\n",
      "--- Final Answer ---\n",
      "Pakistan is important for the world due to its strategic location, economic potential, and security dynamics. Its geographical position at the intersection of South Asia, Central Asia, and the Middle East makes it a pivotal player in regional stability, trade routes, and global power dynamics. Additionally, Pakistan's economy has the potential for growth, despite its current challenges, and it ranks as the 24th-largest based on GDP using purchasing power parity (PPP). Furthermore, Pakistan plays a vital role in regional stability, advocating for multilateral dialogues, and supporting the establishment of security pacts that involve all key regional stakeholders. Its ability to manage regional security concerns, while balancing its strategic interests with its global alliances, will play a significant role in the future of regional stability and security.\n"
     ]
    }
   ],
   "source": [
    "# Define the research topic\n",
    "input_topic = \"Whay Pakistan is important for this world?\"\n",
    "\n",
    "# Invoke the agent executor\n",
    "# The agent will now:\n",
    "# 1. See the input topic.\n",
    "# 2. Decide it needs to search the web (using Tavily).\n",
    "# 3. Formulate a search query.\n",
    "# 4. Call the Tavily tool.\n",
    "# 5. Get the search results.\n",
    "# 6. Process the results using the LLM based on the original topic.\n",
    "# 7. Generate the final answer (summary).\n",
    "\n",
    "response = agent_executor.invoke({\"input\": input_topic})\n",
    "\n",
    "print(\"\\n--- Final Answer ---\")\n",
    "print(response['output'])"
   ]
  },
  {
   "cell_type": "code",
   "execution_count": null,
   "id": "7f7dde2a-166b-42a0-8ced-e7ab76fa1487",
   "metadata": {},
   "outputs": [],
   "source": []
  }
 ],
 "metadata": {
  "kernelspec": {
   "display_name": "Python 3 (ipykernel)",
   "language": "python",
   "name": "python3"
  },
  "language_info": {
   "codemirror_mode": {
    "name": "ipython",
    "version": 3
   },
   "file_extension": ".py",
   "mimetype": "text/x-python",
   "name": "python",
   "nbconvert_exporter": "python",
   "pygments_lexer": "ipython3",
   "version": "3.11.7"
  }
 },
 "nbformat": 4,
 "nbformat_minor": 5
}
